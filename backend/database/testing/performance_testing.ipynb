{
 "cells": [
  {
   "cell_type": "markdown",
   "id": "d6bbb9e2",
   "metadata": {},
   "source": [
    "# 5- Experimento y Evaluación de Desempeño:\n",
    "\n",
    "## a) Búsqueda en texto:\n",
    "Evalúe el rendimiento de su implementación del índice invertido comparándolo con los\n",
    "resultados obtenidos utilizando PostgreSQL. Para ello:\n",
    "- Diseñe consultas equivalentes en ambos sistemas y mida el tiempo de respuesta y la calidad\n",
    "de los resultados (¿Se obtiene los mismo resultados?).\n",
    "- Investigue y explique cómo PostgreSQL realiza la recuperación de información textual:\n",
    "    - El tipo de índice que utiliza (por ejemplo, GIN o GiST).\n",
    "    - La función de similitud o ranking que emplea (ts_rank, ts_rank_cd, entre otras).\n",
    "    - Cómo gestiona el procesamiento de consultas en campos tsvector y tsquery.\n"
   ]
  },
  {
   "cell_type": "markdown",
   "id": "39529c43",
   "metadata": {},
   "source": [
    "### 1. Tipo de índice utilizado\n",
    "PostgreSQL utiliza principalmente dos tipos de índices para búsquedas de texto completo en columnas de tipo tsvector:\n",
    "\n",
    "#### GIN (Generalized Inverted Index):\n",
    "\n",
    "Es el más común para búsquedas de texto completo.\n",
    "Permite búsquedas rápidas de palabras o frases en grandes volúmenes de texto.\n",
    "Es eficiente para consultas donde se busca la presencia de términos (por ejemplo, @@).\n",
    "#### GiST (Generalized Search Tree):\n",
    "\n",
    "Es más flexible y puede ser útil para consultas que requieren ordenamiento por relevancia o para ciertos tipos de ranking.\n",
    "Generalmente es más lento que GIN para búsquedas de texto completo, pero puede ser útil en casos específicos.\n",
    "\n",
    "### 2. Función de similitud o ranking\n",
    "Para ordenar los resultados por relevancia, PostgreSQL ofrece funciones como:\n",
    "\n",
    "#### ts_rank\n",
    "Calcula un puntaje de relevancia basado en la frecuencia y posición de los términos de búsqueda en el documento.\n",
    "\n",
    "#### ts_rank_cd\n",
    "Similar a ts_rank, pero con un algoritmo de ranking diferente (cover density)."
   ]
  }
 ],
 "metadata": {
  "kernelspec": {
   "display_name": "Python 3",
   "language": "python",
   "name": "python3"
  },
  "language_info": {
   "codemirror_mode": {
    "name": "ipython",
    "version": 3
   },
   "file_extension": ".py",
   "mimetype": "text/x-python",
   "name": "python",
   "nbconvert_exporter": "python",
   "pygments_lexer": "ipython3",
   "version": "3.13.4"
  }
 },
 "nbformat": 4,
 "nbformat_minor": 5
}
